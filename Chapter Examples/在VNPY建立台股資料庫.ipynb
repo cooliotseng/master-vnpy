{
 "cells": [
  {
   "cell_type": "markdown",
   "metadata": {},
   "source": [
    "# 台股資料庫建立"
   ]
  },
  {
   "cell_type": "markdown",
   "metadata": {},
   "source": [
    "## 引入套件"
   ]
  },
  {
   "cell_type": "code",
   "execution_count": 2,
   "metadata": {
    "ExecuteTime": {
     "end_time": "2021-01-22T09:27:34.525781Z",
     "start_time": "2021-01-22T09:27:24.110185Z"
    }
   },
   "outputs": [],
   "source": [
    "from pandas import DataFrame, date_range, read_csv\n",
    "from datetime import timedelta, datetime\n",
    "import os\n",
    "import time\n",
    "import re\n",
    "import requests\n",
    "from pymongo import MongoClient"
   ]
  },
  {
   "cell_type": "markdown",
   "metadata": {},
   "source": [
    "### 引入vnpy套件"
   ]
  },
  {
   "cell_type": "code",
   "execution_count": 3,
   "metadata": {
    "ExecuteTime": {
     "end_time": "2021-01-22T09:27:37.804968Z",
     "start_time": "2021-01-22T09:27:36.904917Z"
    }
   },
   "outputs": [],
   "source": [
    "from vnpy.trader.database import database_manager\n",
    "from vnpy.trader.object import BarData\n",
    "from vnpy.trader.constant import Interval, Exchange"
   ]
  },
  {
   "cell_type": "markdown",
   "metadata": {},
   "source": [
    "### 更新資料到vnpy的台股資料庫(mongo)"
   ]
  },
  {
   "cell_type": "code",
   "execution_count": 4,
   "metadata": {
    "ExecuteTime": {
     "end_time": "2021-01-22T09:27:38.808026Z",
     "start_time": "2021-01-22T09:27:38.779024Z"
    }
   },
   "outputs": [],
   "source": [
    "def update_vnpyTSE(date: datetime, data:list, db_name='TSE'):\n",
    "    \"\"\"\n",
    "    params:\n",
    "        date [datetime] : 日期\n",
    "        data [list of distionary] : 當日的所有股票交易資料\n",
    "        db_name [str]: 資料庫名稱\n",
    "    \"\"\"\n",
    "    bars = []\n",
    "    for row in data:\n",
    "        try:\n",
    "            bar = BarData(\n",
    "                symbol=row['Ticker'],\n",
    "                exchange=Exchange.TSE,\n",
    "                datetime=datetime.strptime(row['Date'], '%Y-%m-%d'),\n",
    "                interval=Interval.DAILY,\n",
    "                volume = row['Volume'],\n",
    "                open_price = row['Open'],\n",
    "                high_price = row['High'],\n",
    "                low_price = row['Low'],\n",
    "                close_price = row['Close'],\n",
    "                gateway_name='DB'\n",
    "                )\n",
    "            bars.append(bar)\n",
    "        except Exception as e:\n",
    "            print(e)\n",
    "            print(row)\n",
    "            print(row['Date'])\n",
    "    try:\n",
    "        database_manager.save_bar_data(bars, db_name)\n",
    "        print(f'儲存 {date} 資料成功')\n",
    "    except Exception as e:\n",
    "        print(f'儲存 {date} 資料失敗')\n",
    "        print(e)"
   ]
  },
  {
   "cell_type": "markdown",
   "metadata": {},
   "source": [
    "## 創建資料儲存路徑"
   ]
  },
  {
   "cell_type": "code",
   "execution_count": 5,
   "metadata": {
    "ExecuteTime": {
     "end_time": "2021-01-22T09:27:40.461120Z",
     "start_time": "2021-01-22T09:27:40.450120Z"
    }
   },
   "outputs": [],
   "source": [
    "path = os.path.dirname(os.path.abspath('__file__'))\n",
    "if not os.path.isdir(path):\n",
    "    path = os.getcwd()\n",
    "tsepath = os.path.join(path, 'TSE')\n",
    "if not os.path.isdir(tsepath):\n",
    "    os.makedirs(tsepath)\n",
    "otcpath = os.path.join(path, 'OTC')\n",
    "if not os.path.isdir(otcpath):\n",
    "    os.makedirs(otcpath)"
   ]
  },
  {
   "cell_type": "markdown",
   "metadata": {},
   "source": [
    "## 建立處理資料的方法"
   ]
  },
  {
   "cell_type": "code",
   "execution_count": 1,
   "metadata": {
    "ExecuteTime": {
     "end_time": "2021-01-22T10:07:53.515139Z",
     "start_time": "2021-01-22T10:07:53.498138Z"
    }
   },
   "outputs": [],
   "source": [
    "header = {'User-Agent':'Mozilla/5.0 (Macintosh; Intel Mac OS X 10_10_1) AppleWebKit/537.36 (KHTML, like Gecko) Chrome/39.0.2171.95 Safari/537.36', 'upgrade-insecure-requests': '1'}\n",
    "def crawl_json_data(url):\n",
    "    \"\"\"\n",
    "    爬取以json格式回傳的url資料，\n",
    "    \"\"\"\n",
    "    try:\n",
    "        res = requests.get(url, headers=header)\n",
    "    except:\n",
    "        if res.status_code != 200:\n",
    "            time.sleep(45)\n",
    "            return crawl_json_data(url)\n",
    "    else:\n",
    "        return res.json()\n",
    "\n",
    "def update_data_dict(d):\n",
    "    # 去除 Index資料\n",
    "    if 'Index' in d:\n",
    "        del d['Index']\n",
    "    \n",
    "    # 去除不必要的資料\n",
    "    delete_k = []\n",
    "    for key in d.keys():\n",
    "        if re.match(r'_[0-9]*', key):\n",
    "            delete_k.append(key)\n",
    "    for key in delete_k:\n",
    "        d.pop(key)\n",
    "    return d\n",
    "\n",
    "def changeToFloat(x):\n",
    "    \"\"\"\n",
    "    將文字資料做轉換，補上NA\n",
    "    以及去除數字較大帶有逗點的狀況\n",
    "    \"\"\"\n",
    "    try:\n",
    "        if isinstance(x, str):\n",
    "            if '-' in x:\n",
    "                return float('nan')\n",
    "        return float(str(x).replace(',',''))\n",
    "    except:\n",
    "        return x"
   ]
  },
  {
   "cell_type": "markdown",
   "metadata": {},
   "source": [
    "## 爬取上市股票歷史資料"
   ]
  },
  {
   "cell_type": "code",
   "execution_count": 6,
   "metadata": {
    "ExecuteTime": {
     "end_time": "2021-01-22T09:27:44.148331Z",
     "start_time": "2021-01-22T09:27:44.128330Z"
    }
   },
   "outputs": [],
   "source": [
    "def TSE_HistoricalPrice(i):\n",
    "    output = []\n",
    "    try:\n",
    "        date = i.strftime('%Y%m%d')\n",
    "        url = 'https://www.twse.com.tw/exchangeReport/MI_INDEX?response=json&date=' + \\\n",
    "            date + '&type=ALLBUT0999&_=1553846233285'\n",
    "        js = crawl_json_data(url)\n",
    "        try: # 2011 某日才改變資料放的位置\n",
    "            data = js['data9']\n",
    "        except:\n",
    "            data = js['data8']\n",
    "        for k in range(len(data)):\n",
    "            o,h,l,c,v = [changeToFloat(x) for x in data[k][5:9] + data[k][2:3]]\n",
    "            output.append(update_data_dict({\n",
    "                'Date':i.strftime('%Y-%m-%d'),\n",
    "                'Ticker':data[k][0],\n",
    "                'Open':o,\n",
    "                'High':h,\n",
    "                'Low':l,\n",
    "                'Close':c,\n",
    "                'Volume':int(v),\n",
    "            }))\n",
    "    except Exception as e:\n",
    "        print(e)\n",
    "        print(js.keys())\n",
    "    else:\n",
    "        return output"
   ]
  },
  {
   "cell_type": "markdown",
   "metadata": {},
   "source": [
    "## 爬取上櫃股票歷史資料"
   ]
  },
  {
   "cell_type": "code",
   "execution_count": 7,
   "metadata": {
    "ExecuteTime": {
     "end_time": "2021-01-22T09:27:45.547411Z",
     "start_time": "2021-01-22T09:27:45.527410Z"
    }
   },
   "outputs": [],
   "source": [
    "def OTC_HistoricalPrice(i):\n",
    "    output = []\n",
    "    try:\n",
    "        date = '/'.join([str(i.year - 1911), i.strftime('%m/%d')])\n",
    "        url = 'https://www.tpex.org.tw/web/stock/aftertrading/otc_quotes_no1430/stk_wn1430_result.php?l=zh-tw&d=' + \\\n",
    "            date + '&se=EW&_=1553850502415'\n",
    "        js = crawl_json_data(url)\n",
    "        data = js[\"aaData\"]\n",
    "        for k in range(len(data)):\n",
    "            o,h,l,c,v = [changeToFloat(x) for x in data[k][4:7]+data[k][2:3]+data[k][8:9]]\n",
    "            output.append(update_data_dict({\n",
    "                'Date':i.strftime(\"%Y-%m-%d\"),\n",
    "                'Ticker':data[k][0],\n",
    "                'Open':o,\n",
    "                'High':h,\n",
    "                'Low':l,\n",
    "                'Close':c,\n",
    "                'Volume':int(v),\n",
    "            }))\n",
    "    except Exception as e:\n",
    "        print(e)\n",
    "        print(js.keys())\n",
    "    else:\n",
    "        return output"
   ]
  },
  {
   "cell_type": "markdown",
   "metadata": {},
   "source": [
    "## 建立資料庫"
   ]
  },
  {
   "cell_type": "code",
   "execution_count": 8,
   "metadata": {
    "ExecuteTime": {
     "end_time": "2021-01-22T09:27:47.411518Z",
     "start_time": "2021-01-22T09:27:47.390517Z"
    }
   },
   "outputs": [],
   "source": [
    "def Crawl_TWSE(date):\n",
    "    try:\n",
    "        # crawl tse daily data\n",
    "        # 判斷是否曾經爬取過這一天的資料\n",
    "        # 如果有的話則讀取本地資料\n",
    "        if os.path.isfile(os.path.join(\n",
    "                tsepath, f\"{date.strftime('%Y-%m-%d')}.txt\")): \n",
    "            df_tse = read_csv(os.path.join(\n",
    "                tsepath, f\"{date.strftime('%Y-%m-%d')}.txt\"), sep='\\t')\n",
    "            data_tse = [update_data_dict(x) for x in list(df_tse.T.to_dict().values())]\n",
    "        else: # 如果沒有的話才進入證交所爬取資料\n",
    "            data_tse = TSE_HistoricalPrice(date)\n",
    "\n",
    "        # 確認是否有取得我們要的資料\n",
    "        # 有資料才進行存檔與放入資料庫的動作\n",
    "        if len(data_tse) > 0:\n",
    "            DataFrame(data_tse).to_csv(os.path.join(\n",
    "                tsepath, f\"{date.strftime('%Y-%m-%d')}.txt\"), sep='\\t', index=None, float_format='%g')\n",
    "            update_vnpyTSE(date, data_tse, db_name)\n",
    "        print(f'Update {date} Historical Price of tse success')\n",
    "    except Exception as e:\n",
    "        print('tse',e)\n",
    "        \n",
    "def Crawl_CPEX(date):\n",
    "    try:\n",
    "        if date >= datetime(2007,1,2): # 上櫃股票的資料比較晚才有\n",
    "            # crawl otc daily data\n",
    "            # 判斷是否曾經爬取過這一天的資料\n",
    "            # 如果有的話則讀取本地資料\n",
    "            if os.path.isfile(os.path.join(\n",
    "                    otcpath, f\"{date.strftime('%Y-%m-%d')}.txt\")):\n",
    "                df_otc = read_csv(os.path.join(\n",
    "                    otcpath, f\"{date.strftime('%Y-%m-%d')}.txt\"), sep='\\t')\n",
    "                data_otc = [update_data_dict(x) for x in list(df_otc.T.to_dict().values())]\n",
    "            else:\n",
    "                data_otc = OTC_HistoricalPrice(date)\n",
    "\n",
    "            # 確認是否有取得我們要的資料\n",
    "            # 有資料才進行存檔與放入資料庫的動作\n",
    "            if len(data_otc) > 0:\n",
    "                DataFrame(data_otc).to_csv(os.path.join(\n",
    "                    otcpath, f\"{date.strftime('%Y-%m-%d')}.txt\"), sep='\\t', index=None, float_format='%g')\n",
    "                update_vnpyTSE(date, data_otc, db_name)\n",
    "            print(f'Update {date} Historical Price of otc success')\n",
    "    except Exception as e:\n",
    "        print('otc',e)"
   ]
  },
  {
   "cell_type": "code",
   "execution_count": null,
   "metadata": {
    "ExecuteTime": {
     "start_time": "2021-01-22T09:40:09.463Z"
    }
   },
   "outputs": [
    {
     "name": "stderr",
     "output_type": "stream",
     "text": [
      "e:\\vnpy_demo\\lib\\site-packages\\ipykernel_launcher.py:10: DeprecationWarning: count is deprecated. Use estimated_document_count or count_documents instead. Please note that $where must be replaced by $expr, $near must be replaced by $geoWithin with $center, and $nearSphere must be replaced by $geoWithin with $centerSphere\n",
      "  # Remove the CWD from sys.path while we load stuff.\n"
     ]
    },
    {
     "name": "stdout",
     "output_type": "stream",
     "text": [
      "儲存 2008-03-11 00:00:00 資料成功\n",
      "Update 2008-03-11 00:00:00 Historical Price of tse success\n",
      "儲存 2008-03-11 00:00:00 資料成功\n",
      "Update 2008-03-11 00:00:00 Historical Price of otc success\n",
      "儲存 2008-03-12 00:00:00 資料成功\n",
      "Update 2008-03-12 00:00:00 Historical Price of tse success\n",
      "儲存 2008-03-12 00:00:00 資料成功\n",
      "Update 2008-03-12 00:00:00 Historical Price of otc success\n",
      "儲存 2008-03-13 00:00:00 資料成功\n",
      "Update 2008-03-13 00:00:00 Historical Price of tse success\n",
      "儲存 2008-03-13 00:00:00 資料成功\n",
      "Update 2008-03-13 00:00:00 Historical Price of otc success\n",
      "儲存 2008-03-14 00:00:00 資料成功\n",
      "Update 2008-03-14 00:00:00 Historical Price of tse success\n",
      "儲存 2008-03-14 00:00:00 資料成功\n",
      "Update 2008-03-14 00:00:00 Historical Price of otc success\n",
      "'data8'\n",
      "dict_keys(['stat', 'groups9'])\n",
      "tse object of type 'NoneType' has no len()\n",
      "Update 2008-03-15 00:00:00 Historical Price of otc success\n",
      "'data8'\n",
      "dict_keys(['stat', 'groups9'])\n",
      "tse object of type 'NoneType' has no len()\n",
      "Update 2008-03-16 00:00:00 Historical Price of otc success\n",
      "儲存 2008-03-17 00:00:00 資料成功\n",
      "Update 2008-03-17 00:00:00 Historical Price of tse success\n",
      "儲存 2008-03-17 00:00:00 資料成功\n",
      "Update 2008-03-17 00:00:00 Historical Price of otc success\n",
      "儲存 2008-03-18 00:00:00 資料成功\n",
      "Update 2008-03-18 00:00:00 Historical Price of tse success\n",
      "儲存 2008-03-18 00:00:00 資料成功\n",
      "Update 2008-03-18 00:00:00 Historical Price of otc success\n",
      "儲存 2008-03-19 00:00:00 資料成功\n",
      "Update 2008-03-19 00:00:00 Historical Price of tse success\n",
      "儲存 2008-03-19 00:00:00 資料成功\n",
      "Update 2008-03-19 00:00:00 Historical Price of otc success\n",
      "儲存 2008-03-20 00:00:00 資料成功\n",
      "Update 2008-03-20 00:00:00 Historical Price of tse success\n",
      "儲存 2008-03-20 00:00:00 資料成功\n",
      "Update 2008-03-20 00:00:00 Historical Price of otc success\n",
      "儲存 2008-03-21 00:00:00 資料成功\n",
      "Update 2008-03-21 00:00:00 Historical Price of tse success\n",
      "儲存 2008-03-21 00:00:00 資料成功\n",
      "Update 2008-03-21 00:00:00 Historical Price of otc success\n",
      "'data8'\n",
      "dict_keys(['stat', 'groups9'])\n",
      "tse object of type 'NoneType' has no len()\n",
      "Update 2008-03-22 00:00:00 Historical Price of otc success\n",
      "'data8'\n",
      "dict_keys(['stat', 'groups9'])\n",
      "tse object of type 'NoneType' has no len()\n",
      "Update 2008-03-23 00:00:00 Historical Price of otc success\n",
      "儲存 2008-03-24 00:00:00 資料成功\n",
      "Update 2008-03-24 00:00:00 Historical Price of tse success\n",
      "儲存 2008-03-24 00:00:00 資料成功\n",
      "Update 2008-03-24 00:00:00 Historical Price of otc success\n",
      "儲存 2008-03-25 00:00:00 資料成功\n",
      "Update 2008-03-25 00:00:00 Historical Price of tse success\n",
      "儲存 2008-03-25 00:00:00 資料成功\n",
      "Update 2008-03-25 00:00:00 Historical Price of otc success\n",
      "儲存 2008-03-26 00:00:00 資料成功\n",
      "Update 2008-03-26 00:00:00 Historical Price of tse success\n",
      "儲存 2008-03-26 00:00:00 資料成功\n",
      "Update 2008-03-26 00:00:00 Historical Price of otc success\n",
      "儲存 2008-03-27 00:00:00 資料成功\n",
      "Update 2008-03-27 00:00:00 Historical Price of tse success\n",
      "儲存 2008-03-27 00:00:00 資料成功\n",
      "Update 2008-03-27 00:00:00 Historical Price of otc success\n",
      "儲存 2008-03-28 00:00:00 資料成功\n",
      "Update 2008-03-28 00:00:00 Historical Price of tse success\n",
      "儲存 2008-03-28 00:00:00 資料成功\n",
      "Update 2008-03-28 00:00:00 Historical Price of otc success\n",
      "'data8'\n",
      "dict_keys(['stat', 'groups9'])\n",
      "tse object of type 'NoneType' has no len()\n",
      "Update 2008-03-29 00:00:00 Historical Price of otc success\n",
      "'data8'\n",
      "dict_keys(['stat', 'groups9'])\n",
      "tse object of type 'NoneType' has no len()\n",
      "Update 2008-03-30 00:00:00 Historical Price of otc success\n",
      "儲存 2008-03-31 00:00:00 資料成功\n",
      "Update 2008-03-31 00:00:00 Historical Price of tse success\n",
      "儲存 2008-03-31 00:00:00 資料成功\n",
      "Update 2008-03-31 00:00:00 Historical Price of otc success\n",
      "儲存 2008-04-01 00:00:00 資料成功\n",
      "Update 2008-04-01 00:00:00 Historical Price of tse success\n",
      "儲存 2008-04-01 00:00:00 資料成功\n",
      "Update 2008-04-01 00:00:00 Historical Price of otc success\n",
      "儲存 2008-04-02 00:00:00 資料成功\n",
      "Update 2008-04-02 00:00:00 Historical Price of tse success\n",
      "儲存 2008-04-02 00:00:00 資料成功\n",
      "Update 2008-04-02 00:00:00 Historical Price of otc success\n",
      "儲存 2008-04-03 00:00:00 資料成功\n",
      "Update 2008-04-03 00:00:00 Historical Price of tse success\n",
      "儲存 2008-04-03 00:00:00 資料成功\n",
      "Update 2008-04-03 00:00:00 Historical Price of otc success\n",
      "'data8'\n",
      "dict_keys(['stat', 'groups9'])\n",
      "tse object of type 'NoneType' has no len()\n",
      "Update 2008-04-04 00:00:00 Historical Price of otc success\n",
      "'data8'\n",
      "dict_keys(['stat', 'groups9'])\n",
      "tse object of type 'NoneType' has no len()\n",
      "Update 2008-04-05 00:00:00 Historical Price of otc success\n",
      "'data8'\n",
      "dict_keys(['stat', 'groups9'])\n",
      "tse object of type 'NoneType' has no len()\n",
      "Update 2008-04-06 00:00:00 Historical Price of otc success\n",
      "儲存 2008-04-07 00:00:00 資料成功\n",
      "Update 2008-04-07 00:00:00 Historical Price of tse success\n",
      "儲存 2008-04-07 00:00:00 資料成功\n",
      "Update 2008-04-07 00:00:00 Historical Price of otc success\n",
      "儲存 2008-04-08 00:00:00 資料成功\n",
      "Update 2008-04-08 00:00:00 Historical Price of tse success\n",
      "儲存 2008-04-08 00:00:00 資料成功\n",
      "Update 2008-04-08 00:00:00 Historical Price of otc success\n",
      "儲存 2008-04-09 00:00:00 資料成功\n",
      "Update 2008-04-09 00:00:00 Historical Price of tse success\n",
      "儲存 2008-04-09 00:00:00 資料成功\n",
      "Update 2008-04-09 00:00:00 Historical Price of otc success\n",
      "儲存 2008-04-10 00:00:00 資料成功\n",
      "Update 2008-04-10 00:00:00 Historical Price of tse success\n",
      "儲存 2008-04-10 00:00:00 資料成功\n",
      "Update 2008-04-10 00:00:00 Historical Price of otc success\n",
      "儲存 2008-04-11 00:00:00 資料成功\n",
      "Update 2008-04-11 00:00:00 Historical Price of tse success\n",
      "儲存 2008-04-11 00:00:00 資料成功\n",
      "Update 2008-04-11 00:00:00 Historical Price of otc success\n",
      "'data8'\n",
      "dict_keys(['stat', 'groups9'])\n",
      "tse object of type 'NoneType' has no len()\n",
      "Update 2008-04-12 00:00:00 Historical Price of otc success\n",
      "'data8'\n",
      "dict_keys(['stat', 'groups9'])\n",
      "tse object of type 'NoneType' has no len()\n",
      "Update 2008-04-13 00:00:00 Historical Price of otc success\n",
      "儲存 2008-04-14 00:00:00 資料成功\n",
      "Update 2008-04-14 00:00:00 Historical Price of tse success\n",
      "儲存 2008-04-14 00:00:00 資料成功\n",
      "Update 2008-04-14 00:00:00 Historical Price of otc success\n",
      "儲存 2008-04-15 00:00:00 資料成功\n",
      "Update 2008-04-15 00:00:00 Historical Price of tse success\n",
      "儲存 2008-04-15 00:00:00 資料成功\n",
      "Update 2008-04-15 00:00:00 Historical Price of otc success\n",
      "儲存 2008-04-16 00:00:00 資料成功\n",
      "Update 2008-04-16 00:00:00 Historical Price of tse success\n",
      "儲存 2008-04-16 00:00:00 資料成功\n",
      "Update 2008-04-16 00:00:00 Historical Price of otc success\n",
      "儲存 2008-04-17 00:00:00 資料成功\n",
      "Update 2008-04-17 00:00:00 Historical Price of tse success\n",
      "儲存 2008-04-17 00:00:00 資料成功\n",
      "Update 2008-04-17 00:00:00 Historical Price of otc success\n",
      "儲存 2008-04-18 00:00:00 資料成功\n",
      "Update 2008-04-18 00:00:00 Historical Price of tse success\n",
      "儲存 2008-04-18 00:00:00 資料成功\n",
      "Update 2008-04-18 00:00:00 Historical Price of otc success\n",
      "'data8'\n",
      "dict_keys(['stat', 'groups9'])\n",
      "tse object of type 'NoneType' has no len()\n",
      "Update 2008-04-19 00:00:00 Historical Price of otc success\n",
      "'data8'\n",
      "dict_keys(['stat', 'groups9'])\n",
      "tse object of type 'NoneType' has no len()\n",
      "Update 2008-04-20 00:00:00 Historical Price of otc success\n",
      "儲存 2008-04-21 00:00:00 資料成功\n",
      "Update 2008-04-21 00:00:00 Historical Price of tse success\n",
      "儲存 2008-04-21 00:00:00 資料成功\n",
      "Update 2008-04-21 00:00:00 Historical Price of otc success\n",
      "儲存 2008-04-22 00:00:00 資料成功\n",
      "Update 2008-04-22 00:00:00 Historical Price of tse success\n",
      "儲存 2008-04-22 00:00:00 資料成功\n",
      "Update 2008-04-22 00:00:00 Historical Price of otc success\n",
      "儲存 2008-04-23 00:00:00 資料成功\n",
      "Update 2008-04-23 00:00:00 Historical Price of tse success\n",
      "儲存 2008-04-23 00:00:00 資料成功\n",
      "Update 2008-04-23 00:00:00 Historical Price of otc success\n",
      "儲存 2008-04-24 00:00:00 資料成功\n",
      "Update 2008-04-24 00:00:00 Historical Price of tse success\n",
      "儲存 2008-04-24 00:00:00 資料成功\n",
      "Update 2008-04-24 00:00:00 Historical Price of otc success\n",
      "儲存 2008-04-25 00:00:00 資料成功\n",
      "Update 2008-04-25 00:00:00 Historical Price of tse success\n",
      "儲存 2008-04-25 00:00:00 資料成功\n",
      "Update 2008-04-25 00:00:00 Historical Price of otc success\n",
      "'data8'\n",
      "dict_keys(['stat', 'groups9'])\n",
      "tse object of type 'NoneType' has no len()\n",
      "Update 2008-04-26 00:00:00 Historical Price of otc success\n",
      "'data8'\n",
      "dict_keys(['stat', 'groups9'])\n",
      "tse object of type 'NoneType' has no len()\n",
      "Update 2008-04-27 00:00:00 Historical Price of otc success\n",
      "儲存 2008-04-28 00:00:00 資料成功\n",
      "Update 2008-04-28 00:00:00 Historical Price of tse success\n",
      "儲存 2008-04-28 00:00:00 資料成功\n",
      "Update 2008-04-28 00:00:00 Historical Price of otc success\n",
      "儲存 2008-04-29 00:00:00 資料成功\n",
      "Update 2008-04-29 00:00:00 Historical Price of tse success\n",
      "儲存 2008-04-29 00:00:00 資料成功\n",
      "Update 2008-04-29 00:00:00 Historical Price of otc success\n"
     ]
    },
    {
     "name": "stdout",
     "output_type": "stream",
     "text": [
      "儲存 2008-04-30 00:00:00 資料成功\n",
      "Update 2008-04-30 00:00:00 Historical Price of tse success\n",
      "儲存 2008-04-30 00:00:00 資料成功\n",
      "Update 2008-04-30 00:00:00 Historical Price of otc success\n",
      "'data8'\n",
      "dict_keys(['stat', 'groups9'])\n",
      "tse object of type 'NoneType' has no len()\n",
      "Update 2008-05-01 00:00:00 Historical Price of otc success\n",
      "儲存 2008-05-02 00:00:00 資料成功\n",
      "Update 2008-05-02 00:00:00 Historical Price of tse success\n",
      "儲存 2008-05-02 00:00:00 資料成功\n",
      "Update 2008-05-02 00:00:00 Historical Price of otc success\n",
      "'data8'\n",
      "dict_keys(['stat', 'groups9'])\n",
      "tse object of type 'NoneType' has no len()\n",
      "Update 2008-05-03 00:00:00 Historical Price of otc success\n",
      "'data8'\n",
      "dict_keys(['stat', 'groups9'])\n",
      "tse object of type 'NoneType' has no len()\n",
      "Update 2008-05-04 00:00:00 Historical Price of otc success\n",
      "儲存 2008-05-05 00:00:00 資料成功\n",
      "Update 2008-05-05 00:00:00 Historical Price of tse success\n",
      "儲存 2008-05-05 00:00:00 資料成功\n",
      "Update 2008-05-05 00:00:00 Historical Price of otc success\n",
      "儲存 2008-05-06 00:00:00 資料成功\n",
      "Update 2008-05-06 00:00:00 Historical Price of tse success\n",
      "儲存 2008-05-06 00:00:00 資料成功\n",
      "Update 2008-05-06 00:00:00 Historical Price of otc success\n",
      "儲存 2008-05-07 00:00:00 資料成功\n",
      "Update 2008-05-07 00:00:00 Historical Price of tse success\n",
      "儲存 2008-05-07 00:00:00 資料成功\n",
      "Update 2008-05-07 00:00:00 Historical Price of otc success\n",
      "儲存 2008-05-08 00:00:00 資料成功\n",
      "Update 2008-05-08 00:00:00 Historical Price of tse success\n",
      "儲存 2008-05-08 00:00:00 資料成功\n",
      "Update 2008-05-08 00:00:00 Historical Price of otc success\n",
      "儲存 2008-05-09 00:00:00 資料成功\n",
      "Update 2008-05-09 00:00:00 Historical Price of tse success\n",
      "儲存 2008-05-09 00:00:00 資料成功\n",
      "Update 2008-05-09 00:00:00 Historical Price of otc success\n",
      "'data8'\n",
      "dict_keys(['stat', 'groups9'])\n",
      "tse object of type 'NoneType' has no len()\n",
      "Update 2008-05-10 00:00:00 Historical Price of otc success\n",
      "'data8'\n",
      "dict_keys(['stat', 'groups9'])\n",
      "tse object of type 'NoneType' has no len()\n",
      "Update 2008-05-11 00:00:00 Historical Price of otc success\n",
      "儲存 2008-05-12 00:00:00 資料成功\n",
      "Update 2008-05-12 00:00:00 Historical Price of tse success\n",
      "儲存 2008-05-12 00:00:00 資料成功\n",
      "Update 2008-05-12 00:00:00 Historical Price of otc success\n",
      "儲存 2008-05-13 00:00:00 資料成功\n",
      "Update 2008-05-13 00:00:00 Historical Price of tse success\n"
     ]
    }
   ],
   "source": [
    "if __name__ == \"__main__\":\n",
    "    try:\n",
    "        schema = 'vnpy_test' # 根據在vnpy中設定的那個database名稱\n",
    "        db_name = 'Test' # 可自行更換資料庫(table)名稱\n",
    "        client = MongoClient('mongodb://192.168.1.110:27017') #依照vnpy中設定的database的ip與port\n",
    "        schema = client['vnpy_test']\n",
    "        collections = schema.list_collection_names()\n",
    "        if db_name in collections: # 資料庫存在\n",
    "            table = schema[db_name]\n",
    "            nums = table.count()\n",
    "            if not nums: # 資料庫沒有資料，所以進行完整的建立, 取資料公告的第一天\n",
    "                start_date = datetime(2004,2,11) # 此日期為證交所公告最早的日期 # 2004-2-11\n",
    "            else: # 資料庫有資料，取上次更新的最後一天做為起始日期\n",
    "                start_date = list(table.distinct('datetime'))[-1]\n",
    "        else: # 資料庫不存在, 所以進行完整的建立, 取資料公告的第一天\n",
    "            start_date = datetime(2004,2,11) # 此日期為證交所公告最早的日期 # 2004-2-11\n",
    "        end_date = datetime.today() # 最後一日皆設定開啟的當日\n",
    "        dates = date_range(start_date, end_date)\n",
    "        for date in dates:\n",
    "            Crawl_TWSE(date)\n",
    "            Crawl_CPEX(date)\n",
    "#             time.sleep(3)\n",
    "    except Exception as e:\n",
    "        print(e)"
   ]
  }
 ],
 "metadata": {
  "hide_input": false,
  "kernelspec": {
   "display_name": "Python 3",
   "language": "python",
   "name": "python3"
  },
  "language_info": {
   "codemirror_mode": {
    "name": "ipython",
    "version": 3
   },
   "file_extension": ".py",
   "mimetype": "text/x-python",
   "name": "python",
   "nbconvert_exporter": "python",
   "pygments_lexer": "ipython3",
   "version": "3.7.8"
  },
  "toc": {
   "base_numbering": 1,
   "nav_menu": {},
   "number_sections": true,
   "sideBar": true,
   "skip_h1_title": false,
   "title_cell": "Table of Contents",
   "title_sidebar": "Contents",
   "toc_cell": false,
   "toc_position": {},
   "toc_section_display": true,
   "toc_window_display": false
  },
  "varInspector": {
   "cols": {
    "lenName": 16,
    "lenType": 16,
    "lenVar": 40
   },
   "kernels_config": {
    "python": {
     "delete_cmd_postfix": "",
     "delete_cmd_prefix": "del ",
     "library": "var_list.py",
     "varRefreshCmd": "print(var_dic_list())"
    },
    "r": {
     "delete_cmd_postfix": ") ",
     "delete_cmd_prefix": "rm(",
     "library": "var_list.r",
     "varRefreshCmd": "cat(var_dic_list()) "
    }
   },
   "types_to_exclude": [
    "module",
    "function",
    "builtin_function_or_method",
    "instance",
    "_Feature"
   ],
   "window_display": false
  }
 },
 "nbformat": 4,
 "nbformat_minor": 4
}
